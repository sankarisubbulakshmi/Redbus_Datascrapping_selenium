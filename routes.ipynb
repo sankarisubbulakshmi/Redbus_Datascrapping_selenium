{
 "cells": [
  {
   "cell_type": "code",
   "execution_count": 3,
   "metadata": {},
   "outputs": [],
   "source": [
    "import time\n",
    "import pandas as pd\n",
    "from selenium import webdriver\n",
    "from selenium.webdriver.common.by import By\n",
    "from selenium.webdriver.common.keys import Keys\n",
    "\n",
    "from selenium.webdriver.support.ui import WebDriverWait\n",
    "from selenium.webdriver.support import expected_conditions as EC\n",
    "from selenium.webdriver import ActionChains"
   ]
  },
  {
   "cell_type": "markdown",
   "metadata": {},
   "source": [
    "Andhra routes details"
   ]
  },
  {
   "cell_type": "code",
   "execution_count": 12,
   "metadata": {},
   "outputs": [
    {
     "name": "stdout",
     "output_type": "stream",
     "text": [
      "scraping page 1\n",
      "Scraping page 2\n",
      "Scraping page 3\n",
      "Scraping page 4\n",
      "Scraping page 5\n"
     ]
    },
    {
     "data": {
      "text/plain": [
       "49"
      ]
     },
     "execution_count": 12,
     "metadata": {},
     "output_type": "execute_result"
    }
   ],
   "source": [
    "driver = webdriver.Chrome()\n",
    "driver.get('https://www.redbus.in/online-booking/apsrtc/?utm_source=rtchometile')\n",
    "time.sleep(5)\n",
    "\n",
    "routes_link=[]\n",
    "routes_available=[]\n",
    "\n",
    "def scrape_page():\n",
    "    current_page=driver.find_elements(By.CSS_SELECTOR,\"a[class='route']\")\n",
    "    for page in current_page:\n",
    "        routes_link.append(page.get_attribute('href'))\n",
    "        routes_available.append(page.text)\n",
    "\n",
    "scrape_page()\n",
    "print(\"scraping page 1\")\n",
    "# Find the total number of pages\n",
    "pagination = driver.find_element(By.XPATH, \"//div[@class='DC_117_paginationTable']\")\n",
    "total_pages = [int(i) for i in pagination.text.split(\"\\n\")]\n",
    "\n",
    "# Loop through the rest of the pages\n",
    "for i in range(2, len(total_pages) + 1):\n",
    "    print(f\"Scraping page {i}\")\n",
    "    \n",
    "    next_button = WebDriverWait(driver, 15).until(\n",
    "        EC.element_to_be_clickable((By.XPATH,  f\"//div[@class='DC_117_pageTabs ' and text()='{i}']\"))\n",
    "    )\n",
    "    next_button.click()\n",
    "  \n",
    "    time.sleep(5)\n",
    "\n",
    "    scrape_page()\n",
    "#convert those list into dataframe\n",
    "data = {\n",
    "    \"route_names\":routes_available,\n",
    "    \"routes_link\":routes_link\n",
    "}\n",
    "\n",
    "apsrtc_route_details = pd.DataFrame(data)\n",
    "apsrtc_route_details.to_csv('apsrtc_route_details.csv', index=False)\n",
    "len(apsrtc_route_details)"
   ]
  },
  {
   "cell_type": "markdown",
   "metadata": {},
   "source": [
    "Kerala route details"
   ]
  },
  {
   "cell_type": "code",
   "execution_count": 13,
   "metadata": {},
   "outputs": [
    {
     "name": "stdout",
     "output_type": "stream",
     "text": [
      "scraping page 1\n",
      "Scraping page 2\n"
     ]
    },
    {
     "data": {
      "text/plain": [
       "19"
      ]
     },
     "execution_count": 13,
     "metadata": {},
     "output_type": "execute_result"
    }
   ],
   "source": [
    "driver = webdriver.Chrome()\n",
    "driver.get('https://www.redbus.in/online-booking/ksrtc-kerala/?utm_source=rtchometile')\n",
    "time.sleep(5)\n",
    "\n",
    "routes_link=[]\n",
    "routes_available=[]\n",
    "\n",
    "def scrape_page():\n",
    "    current_page=driver.find_elements(By.CSS_SELECTOR,\"a[class='route']\")\n",
    "    for page in current_page:\n",
    "        routes_link.append(page.get_attribute('href'))\n",
    "        routes_available.append(page.text)\n",
    "\n",
    "scrape_page()\n",
    "print(\"scraping page 1\")\n",
    "# Find the total number of pages\n",
    "pagination = driver.find_element(By.XPATH, \"//div[@class='DC_117_paginationTable']\")\n",
    "total_pages = [int(i) for i in pagination.text.split(\"\\n\")]\n",
    "\n",
    "# Loop through the rest of the pages\n",
    "for i in range(2, len(total_pages) + 1):\n",
    "    print(f\"Scraping page {i}\")\n",
    "    \n",
    "    next_button = WebDriverWait(driver, 15).until(\n",
    "        EC.element_to_be_clickable((By.XPATH,  f\"//div[@class='DC_117_pageTabs ' and text()='{i}']\"))\n",
    "    )\n",
    "    next_button.click()\n",
    "  \n",
    "    time.sleep(5)\n",
    "\n",
    "    scrape_page()\n",
    "#convert those list into dataframe\n",
    "data = {\n",
    "    \"route_names\":routes_available,\n",
    "    \"routes_link\":routes_link\n",
    "}\n",
    "\n",
    "keralartc_route_details = pd.DataFrame(data)\n",
    "keralartc_route_details.to_csv('keralartc_route_details.csv', index=False)\n",
    "len(keralartc_route_details)"
   ]
  },
  {
   "cell_type": "markdown",
   "metadata": {},
   "source": [
    "Telengana route details"
   ]
  },
  {
   "cell_type": "code",
   "execution_count": 14,
   "metadata": {},
   "outputs": [
    {
     "name": "stdout",
     "output_type": "stream",
     "text": [
      "scraping page 1\n",
      "Scraping page 2\n",
      "Scraping page 3\n"
     ]
    },
    {
     "data": {
      "text/plain": [
       "26"
      ]
     },
     "execution_count": 14,
     "metadata": {},
     "output_type": "execute_result"
    }
   ],
   "source": [
    "driver = webdriver.Chrome()\n",
    "driver.get('https://www.redbus.in/online-booking/tsrtc/?utm_source=rtchometile')\n",
    "time.sleep(5)\n",
    "\n",
    "routes_link=[]\n",
    "routes_available=[]\n",
    "\n",
    "def scrape_page():\n",
    "    current_page=driver.find_elements(By.CSS_SELECTOR,\"a[class='route']\")\n",
    "    for page in current_page:\n",
    "        routes_link.append(page.get_attribute('href'))\n",
    "        routes_available.append(page.text)\n",
    "\n",
    "scrape_page()\n",
    "print(\"scraping page 1\")\n",
    "# Find the total number of pages\n",
    "pagination = driver.find_element(By.XPATH, \"//div[@class='DC_117_paginationTable']\")\n",
    "total_pages = [int(i) for i in pagination.text.split(\"\\n\")]\n",
    "\n",
    "# Loop through the rest of the pages\n",
    "for i in range(2, len(total_pages) + 1):\n",
    "    print(f\"Scraping page {i}\")\n",
    "    \n",
    "    next_button = WebDriverWait(driver, 15).until(\n",
    "        EC.element_to_be_clickable((By.XPATH,  f\"//div[@class='DC_117_pageTabs ' and text()='{i}']\"))\n",
    "    )\n",
    "    next_button.click()\n",
    "  \n",
    "    time.sleep(5)\n",
    "\n",
    "    scrape_page()\n",
    "#convert those list into dataframe\n",
    "data = {\n",
    "    \"route_names\":routes_available,\n",
    "    \"routes_link\":routes_link\n",
    "}\n",
    "\n",
    "tsrtc_route_details = pd.DataFrame(data)\n",
    "tsrtc_route_details.to_csv('tsrtc_route_details.csv', index=False)\n",
    "len(tsrtc_route_details)"
   ]
  },
  {
   "cell_type": "markdown",
   "metadata": {},
   "source": [
    "Kadamba Transport Corporation Limited (KTCL) Bus Routes"
   ]
  },
  {
   "cell_type": "code",
   "execution_count": 15,
   "metadata": {},
   "outputs": [
    {
     "name": "stdout",
     "output_type": "stream",
     "text": [
      "scraping page 1\n",
      "Scraping page 2\n",
      "Scraping page 3\n",
      "Scraping page 4\n"
     ]
    },
    {
     "data": {
      "text/plain": [
       "40"
      ]
     },
     "execution_count": 15,
     "metadata": {},
     "output_type": "execute_result"
    }
   ],
   "source": [
    "driver = webdriver.Chrome()\n",
    "driver.get('https://www.redbus.in/online-booking/ktcl/?utm_source=rtchometile')\n",
    "time.sleep(5)\n",
    "\n",
    "routes_link=[]\n",
    "routes_available=[]\n",
    "\n",
    "def scrape_page():\n",
    "    current_page=driver.find_elements(By.CSS_SELECTOR,\"a[class='route']\")\n",
    "    for page in current_page:\n",
    "        routes_link.append(page.get_attribute('href'))\n",
    "        routes_available.append(page.text)\n",
    "\n",
    "scrape_page()\n",
    "print(\"scraping page 1\")\n",
    "# Find the total number of pages\n",
    "pagination = driver.find_element(By.XPATH, \"//div[@class='DC_117_paginationTable']\")\n",
    "total_pages = [int(i) for i in pagination.text.split(\"\\n\")]\n",
    "\n",
    "# Loop through the rest of the pages\n",
    "for i in range(2, len(total_pages) + 1):\n",
    "    print(f\"Scraping page {i}\")\n",
    "    \n",
    "    next_button = WebDriverWait(driver, 15).until(\n",
    "        EC.element_to_be_clickable((By.XPATH,  f\"//div[@class='DC_117_pageTabs ' and text()='{i}']\"))\n",
    "    )\n",
    "    next_button.click()\n",
    "  \n",
    "    time.sleep(5)\n",
    "\n",
    "    scrape_page()\n",
    "#convert those list into dataframe\n",
    "data = {\n",
    "    \"route_names\":routes_available,\n",
    "    \"routes_link\":routes_link\n",
    "}\n",
    "\n",
    "ktcl_route_details = pd.DataFrame(data)\n",
    "ktcl_route_details.to_csv('ktcl_route_details.csv', index=False)\n",
    "len(ktcl_route_details)"
   ]
  },
  {
   "cell_type": "markdown",
   "metadata": {},
   "source": [
    "RSRTC Bus Routes"
   ]
  },
  {
   "cell_type": "code",
   "execution_count": 16,
   "metadata": {},
   "outputs": [
    {
     "name": "stdout",
     "output_type": "stream",
     "text": [
      "scraping page 1\n",
      "Scraping page 2\n",
      "Scraping page 3\n"
     ]
    },
    {
     "data": {
      "text/plain": [
       "21"
      ]
     },
     "execution_count": 16,
     "metadata": {},
     "output_type": "execute_result"
    }
   ],
   "source": [
    "driver = webdriver.Chrome()\n",
    "driver.get('https://www.redbus.in/online-booking/rsrtc/?utm_source=rtchometile')\n",
    "time.sleep(5)\n",
    "\n",
    "routes_link=[]\n",
    "routes_available=[]\n",
    "\n",
    "def scrape_page():\n",
    "    current_page=driver.find_elements(By.CSS_SELECTOR,\"a[class='route']\")\n",
    "    for page in current_page:\n",
    "        routes_link.append(page.get_attribute('href'))\n",
    "        routes_available.append(page.text)\n",
    "\n",
    "scrape_page()\n",
    "print(\"scraping page 1\")\n",
    "# Find the total number of pages\n",
    "pagination = driver.find_element(By.XPATH, \"//div[@class='DC_117_paginationTable']\")\n",
    "total_pages = [int(i) for i in pagination.text.split(\"\\n\")]\n",
    "\n",
    "# Loop through the rest of the pages\n",
    "for i in range(2, len(total_pages) + 1):\n",
    "    print(f\"Scraping page {i}\")\n",
    "    \n",
    "    next_button = WebDriverWait(driver, 15).until(\n",
    "        EC.element_to_be_clickable((By.XPATH,  f\"//div[@class='DC_117_pageTabs ' and text()='{i}']\"))\n",
    "    )\n",
    "    next_button.click()\n",
    "  \n",
    "    time.sleep(5)\n",
    "\n",
    "    scrape_page()\n",
    "#convert those list into dataframe\n",
    "data = {\n",
    "    \"route_names\":routes_available,\n",
    "    \"routes_link\":routes_link\n",
    "}\n",
    "\n",
    "rsrtc_route_details = pd.DataFrame(data)\n",
    "rsrtc_route_details.to_csv('rsrtc_route_details.csv', index=False)\n",
    "len(rsrtc_route_details)"
   ]
  },
  {
   "cell_type": "markdown",
   "metadata": {},
   "source": [
    "South Bengal State Transport Corporation (SBSTC) Bus Routes"
   ]
  },
  {
   "cell_type": "code",
   "execution_count": 17,
   "metadata": {},
   "outputs": [
    {
     "name": "stdout",
     "output_type": "stream",
     "text": [
      "scraping page 1\n",
      "Scraping page 2\n",
      "Scraping page 3\n",
      "Scraping page 4\n",
      "Scraping page 5\n"
     ]
    },
    {
     "data": {
      "text/plain": [
       "45"
      ]
     },
     "execution_count": 17,
     "metadata": {},
     "output_type": "execute_result"
    }
   ],
   "source": [
    "driver = webdriver.Chrome()\n",
    "driver.get('https://www.redbus.in/online-booking/south-bengal-state-transport-corporation-sbstc/?utm_source=rtchometile')\n",
    "time.sleep(5)\n",
    "\n",
    "routes_link=[]\n",
    "routes_available=[]\n",
    "\n",
    "def scrape_page():\n",
    "    current_page=driver.find_elements(By.CSS_SELECTOR,\"a[class='route']\")\n",
    "    for page in current_page:\n",
    "        routes_link.append(page.get_attribute('href'))\n",
    "        routes_available.append(page.text)\n",
    "\n",
    "scrape_page()\n",
    "print(\"scraping page 1\")\n",
    "# Find the total number of pages\n",
    "pagination = driver.find_element(By.XPATH, \"//div[@class='DC_117_paginationTable']\")\n",
    "total_pages = [int(i) for i in pagination.text.split(\"\\n\")]\n",
    "\n",
    "# Loop through the rest of the pages\n",
    "for i in range(2, len(total_pages) + 1):\n",
    "    print(f\"Scraping page {i}\")\n",
    "    \n",
    "    next_button = WebDriverWait(driver, 15).until(\n",
    "        EC.element_to_be_clickable((By.XPATH,  f\"//div[@class='DC_117_pageTabs ' and text()='{i}']\"))\n",
    "    )\n",
    "    next_button.click()\n",
    "  \n",
    "    time.sleep(5)\n",
    "\n",
    "    scrape_page()\n",
    "#convert those list into dataframe\n",
    "data = {\n",
    "    \"route_names\":routes_available,\n",
    "    \"routes_link\":routes_link\n",
    "}\n",
    "\n",
    "sbstc_route_details = pd.DataFrame(data)\n",
    "sbstc_route_details.to_csv('sbstc_route_details.csv', index=False)\n",
    "len(sbstc_route_details)"
   ]
  },
  {
   "cell_type": "markdown",
   "metadata": {},
   "source": [
    "HRTC Bus Routes"
   ]
  },
  {
   "cell_type": "code",
   "execution_count": 18,
   "metadata": {},
   "outputs": [
    {
     "name": "stdout",
     "output_type": "stream",
     "text": [
      "scraping page 1\n",
      "Scraping page 2\n",
      "Scraping page 3\n",
      "Scraping page 4\n",
      "Scraping page 5\n"
     ]
    },
    {
     "data": {
      "text/plain": [
       "41"
      ]
     },
     "execution_count": 18,
     "metadata": {},
     "output_type": "execute_result"
    }
   ],
   "source": [
    "driver = webdriver.Chrome()\n",
    "driver.get('https://www.redbus.in/online-booking/hrtc/?utm_source=rtchometile')\n",
    "time.sleep(5)\n",
    "\n",
    "routes_link=[]\n",
    "routes_available=[]\n",
    "\n",
    "def scrape_page():\n",
    "    current_page=driver.find_elements(By.CSS_SELECTOR,\"a[class='route']\")\n",
    "    for page in current_page:\n",
    "        routes_link.append(page.get_attribute('href'))\n",
    "        routes_available.append(page.text)\n",
    "\n",
    "scrape_page()\n",
    "print(\"scraping page 1\")\n",
    "# Find the total number of pages\n",
    "pagination = driver.find_element(By.XPATH, \"//div[@class='DC_117_paginationTable']\")\n",
    "total_pages = [int(i) for i in pagination.text.split(\"\\n\")]\n",
    "\n",
    "# Loop through the rest of the pages\n",
    "for i in range(2, len(total_pages) + 1):\n",
    "    print(f\"Scraping page {i}\")\n",
    "    \n",
    "    next_button = WebDriverWait(driver, 15).until(\n",
    "        EC.element_to_be_clickable((By.XPATH,  f\"//div[@class='DC_117_pageTabs ' and text()='{i}']\"))\n",
    "    )\n",
    "    next_button.click()\n",
    "  \n",
    "    time.sleep(5)\n",
    "\n",
    "    scrape_page()\n",
    "#convert those list into dataframe\n",
    "data = {\n",
    "    \"route_names\":routes_available,\n",
    "    \"routes_link\":routes_link\n",
    "}\n",
    "\n",
    "hrtc_route_details = pd.DataFrame(data)\n",
    "hrtc_route_details.to_csv('hrtc_route_details.csv', index=False)\n",
    "len(hrtc_route_details)"
   ]
  },
  {
   "cell_type": "markdown",
   "metadata": {},
   "source": [
    "Assam State Transport Corporation (ASTC) Bus Routes"
   ]
  },
  {
   "cell_type": "code",
   "execution_count": 4,
   "metadata": {},
   "outputs": [
    {
     "name": "stdout",
     "output_type": "stream",
     "text": [
      "scraping page 1\n",
      "Scraping page 2\n",
      "Scraping page 3\n",
      "Scraping page 4\n",
      "Scraping page 5\n"
     ]
    },
    {
     "data": {
      "text/plain": [
       "47"
      ]
     },
     "execution_count": 4,
     "metadata": {},
     "output_type": "execute_result"
    }
   ],
   "source": [
    "driver = webdriver.Chrome()\n",
    "driver.get('https://www.redbus.in/online-booking/astc/?utm_source=rtchometile')\n",
    "time.sleep(5)\n",
    "\n",
    "routes_link=[]\n",
    "routes_available=[]\n",
    "\n",
    "def scrape_page():\n",
    "    current_page=driver.find_elements(By.CSS_SELECTOR,\"a[class='route']\")\n",
    "    for page in current_page:\n",
    "        routes_link.append(page.get_attribute('href'))\n",
    "        routes_available.append(page.text)\n",
    "\n",
    "scrape_page()\n",
    "print(\"scraping page 1\")\n",
    "# Find the total number of pages\n",
    "pagination = driver.find_element(By.XPATH, \"//div[@class='DC_117_paginationTable']\")\n",
    "total_pages = [int(i) for i in pagination.text.split(\"\\n\")]\n",
    "\n",
    "# Loop through the rest of the pages\n",
    "for i in range(2, len(total_pages) + 1):\n",
    "    print(f\"Scraping page {i}\")\n",
    "    \n",
    "    next_button = WebDriverWait(driver, 15).until(\n",
    "        EC.element_to_be_clickable((By.XPATH,  f\"//div[@class='DC_117_pageTabs ' and text()='{i}']\"))\n",
    "    )\n",
    "    next_button.click()\n",
    "  \n",
    "    time.sleep(5)\n",
    "\n",
    "    scrape_page()\n",
    "#convert those list into dataframe\n",
    "data = {\n",
    "    \"route_names\":routes_available,\n",
    "    \"routes_link\":routes_link\n",
    "}\n",
    "\n",
    "astc_route_details = pd.DataFrame(data)\n",
    "astc_route_details.to_csv('astc_route_details.csv', index=False)\n",
    "len(astc_route_details)"
   ]
  },
  {
   "cell_type": "markdown",
   "metadata": {},
   "source": [
    "CTU"
   ]
  },
  {
   "cell_type": "code",
   "execution_count": 9,
   "metadata": {},
   "outputs": [
    {
     "name": "stdout",
     "output_type": "stream",
     "text": [
      "scraping page 1\n",
      "Scraping page 2\n",
      "Scraping page 3\n",
      "Scraping page 4\n",
      "Scraping page 5\n"
     ]
    },
    {
     "data": {
      "text/plain": [
       "49"
      ]
     },
     "execution_count": 9,
     "metadata": {},
     "output_type": "execute_result"
    }
   ],
   "source": [
    "driver = webdriver.Chrome()\n",
    "driver.get('https://www.redbus.in/online-booking/chandigarh-transport-undertaking-ctu')\n",
    "time.sleep(5)\n",
    "\n",
    "routes_link=[]\n",
    "routes_available=[]\n",
    "\n",
    "def scrape_page():\n",
    "    current_page=driver.find_elements(By.CSS_SELECTOR,\"a[class='route']\")\n",
    "    for page in current_page:\n",
    "        routes_link.append(page.get_attribute('href'))\n",
    "        routes_available.append(page.text)\n",
    "\n",
    "scrape_page()\n",
    "print(\"scraping page 1\")\n",
    "# Find the total number of pages\n",
    "pagination = driver.find_element(By.XPATH, \"//div[@class='DC_117_paginationTable']\")\n",
    "total_pages = [int(i) for i in pagination.text.split(\"\\n\")]\n",
    "\n",
    "# Loop through the rest of the pages\n",
    "for i in range(2, len(total_pages) + 1):\n",
    "    print(f\"Scraping page {i}\")\n",
    "    \n",
    "    next_button = WebDriverWait(driver, 15).until(\n",
    "        EC.element_to_be_clickable((By.XPATH,  f\"//div[@class='DC_117_pageTabs ' and text()='{i}']\"))\n",
    "    )\n",
    "    next_button.click()\n",
    "  \n",
    "    time.sleep(5)\n",
    "\n",
    "    scrape_page()\n",
    "#convert those list into dataframe\n",
    "data = {\n",
    "    \"route_names\":routes_available,\n",
    "    \"routes_link\":routes_link\n",
    "}\n",
    "\n",
    "ctu_route_details = pd.DataFrame(data)\n",
    "ctu_route_details.to_csv('ctu_route_details.csv', index=False)\n",
    "len(ctu_route_details)"
   ]
  },
  {
   "cell_type": "markdown",
   "metadata": {},
   "source": [
    "PEPSU"
   ]
  },
  {
   "cell_type": "code",
   "execution_count": 10,
   "metadata": {},
   "outputs": [
    {
     "name": "stdout",
     "output_type": "stream",
     "text": [
      "scraping page 1\n",
      "Scraping page 2\n",
      "Scraping page 3\n"
     ]
    },
    {
     "data": {
      "text/plain": [
       "22"
      ]
     },
     "execution_count": 10,
     "metadata": {},
     "output_type": "execute_result"
    }
   ],
   "source": [
    "driver = webdriver.Chrome()\n",
    "driver.get('https://www.redbus.in/online-booking/pepsu/?utm_source=rtchometile')\n",
    "time.sleep(5)\n",
    "\n",
    "routes_link=[]\n",
    "routes_available=[]\n",
    "\n",
    "def scrape_page():\n",
    "    current_page=driver.find_elements(By.CSS_SELECTOR,\"a[class='route']\")\n",
    "    for page in current_page:\n",
    "        routes_link.append(page.get_attribute('href'))\n",
    "        routes_available.append(page.text)\n",
    "\n",
    "scrape_page()\n",
    "print(\"scraping page 1\")\n",
    "# Find the total number of pages\n",
    "pagination = driver.find_element(By.XPATH, \"//div[@class='DC_117_paginationTable']\")\n",
    "total_pages = [int(i) for i in pagination.text.split(\"\\n\")]\n",
    "\n",
    "# Loop through the rest of the pages\n",
    "for i in range(2, len(total_pages) + 1):\n",
    "    print(f\"Scraping page {i}\")\n",
    "    \n",
    "    next_button = WebDriverWait(driver, 15).until(\n",
    "        EC.element_to_be_clickable((By.XPATH,  f\"//div[@class='DC_117_pageTabs ' and text()='{i}']\"))\n",
    "    )\n",
    "    next_button.click()\n",
    "  \n",
    "    time.sleep(5)\n",
    "\n",
    "    scrape_page()\n",
    "#convert those list into dataframe\n",
    "data = {\n",
    "    \"route_names\":routes_available,\n",
    "    \"routes_link\":routes_link\n",
    "}\n",
    "\n",
    "pepsu_route_details = pd.DataFrame(data)\n",
    "pepsu_route_details.to_csv('pepsu_route_details.csv', index=False)\n",
    "len(pepsu_route_details)"
   ]
  },
  {
   "cell_type": "markdown",
   "metadata": {},
   "source": [
    "Uttar Pradhesh Bus Routes"
   ]
  },
  {
   "cell_type": "code",
   "execution_count": 20,
   "metadata": {},
   "outputs": [
    {
     "name": "stdout",
     "output_type": "stream",
     "text": [
      "scraping page 1\n",
      "Scraping page 2\n",
      "Scraping page 3\n",
      "Scraping page 4\n",
      "Scraping page 5\n"
     ]
    },
    {
     "data": {
      "text/plain": [
       "49"
      ]
     },
     "execution_count": 20,
     "metadata": {},
     "output_type": "execute_result"
    }
   ],
   "source": [
    "\n",
    "driver = webdriver.Chrome()\n",
    "driver.get('https://www.redbus.in/online-booking/uttar-pradesh-state-road-transport-corporation-upsrtc/?utm_source=rtchometile')\n",
    "time.sleep(5)\n",
    "\n",
    "routes_link=[]\n",
    "routes_available=[]\n",
    "\n",
    "def scrape_page():\n",
    "    current_page=driver.find_elements(By.CSS_SELECTOR,\"a[class='route']\")\n",
    "    for page in current_page:\n",
    "        routes_link.append(page.get_attribute('href'))\n",
    "        routes_available.append(page.text)\n",
    "\n",
    "scrape_page()\n",
    "print(\"scraping page 1\")\n",
    "# Find the total number of pages\n",
    "pagination = driver.find_element(By.XPATH, \"//div[@class='DC_117_paginationTable']\")\n",
    "total_pages = [int(i) for i in pagination.text.split(\"\\n\")]\n",
    "\n",
    "# Loop through the rest of the pages\n",
    "for i in range(2, len(total_pages) + 1):\n",
    "    print(f\"Scraping page {i}\")\n",
    "    \n",
    "    next_button = WebDriverWait(driver, 15).until(\n",
    "        EC.element_to_be_clickable((By.XPATH,  f\"//div[@class='DC_117_pageTabs ' and text()='{i}']\"))\n",
    "    )\n",
    "    next_button.click()\n",
    "  \n",
    "    time.sleep(5)\n",
    "\n",
    "    scrape_page()\n",
    "#convert those list into dataframe\n",
    "data = {\n",
    "    \"route_names\":routes_available,\n",
    "    \"routes_link\":routes_link\n",
    "}\n",
    "\n",
    "upsrtc_route_details = pd.DataFrame(data)\n",
    "upsrtc_route_details.to_csv('upsrtc_route_details.csv', index=False)\n",
    "len(upsrtc_route_details)"
   ]
  },
  {
   "cell_type": "markdown",
   "metadata": {},
   "source": [
    "West Bengal Bus Routes"
   ]
  },
  {
   "cell_type": "code",
   "execution_count": 21,
   "metadata": {},
   "outputs": [
    {
     "name": "stdout",
     "output_type": "stream",
     "text": [
      "scraping page 1\n",
      "Scraping page 2\n",
      "Scraping page 3\n",
      "Scraping page 4\n",
      "Scraping page 5\n"
     ]
    },
    {
     "data": {
      "text/plain": [
       "41"
      ]
     },
     "execution_count": 21,
     "metadata": {},
     "output_type": "execute_result"
    }
   ],
   "source": [
    "\n",
    "driver = webdriver.Chrome()\n",
    "driver.get('https://www.redbus.in/online-booking/wbtc-ctc/?utm_source=rtchometile')\n",
    "time.sleep(5)\n",
    "\n",
    "routes_link=[]\n",
    "routes_available=[]\n",
    "\n",
    "def scrape_page():\n",
    "    current_page=driver.find_elements(By.CSS_SELECTOR,\"a[class='route']\")\n",
    "    for page in current_page:\n",
    "        routes_link.append(page.get_attribute('href'))\n",
    "        routes_available.append(page.text)\n",
    "\n",
    "scrape_page()\n",
    "print(\"scraping page 1\")\n",
    "# Find the total number of pages\n",
    "pagination = driver.find_element(By.XPATH, \"//div[@class='DC_117_paginationTable']\")\n",
    "total_pages = [int(i) for i in pagination.text.split(\"\\n\")]\n",
    "\n",
    "# Loop through the rest of the pages\n",
    "for i in range(2, len(total_pages) + 1):\n",
    "    print(f\"Scraping page {i}\")\n",
    "    \n",
    "    next_button = WebDriverWait(driver, 15).until(\n",
    "        EC.element_to_be_clickable((By.XPATH,  f\"//div[@class='DC_117_pageTabs ' and text()='{i}']\"))\n",
    "    )\n",
    "    next_button.click()\n",
    "  \n",
    "    time.sleep(5)\n",
    "\n",
    "    scrape_page()\n",
    "#convert those list into dataframe\n",
    "data = {\n",
    "    \"route_names\":routes_available,\n",
    "    \"routes_link\":routes_link\n",
    "}\n",
    "\n",
    "wbtc_route_details = pd.DataFrame(data)\n",
    "wbtc_route_details.to_csv('wbtc_route_details.csv', index=False)\n",
    "len(wbtc_route_details)"
   ]
  }
 ],
 "metadata": {
  "kernelspec": {
   "display_name": "Python 3",
   "language": "python",
   "name": "python3"
  },
  "language_info": {
   "codemirror_mode": {
    "name": "ipython",
    "version": 3
   },
   "file_extension": ".py",
   "mimetype": "text/x-python",
   "name": "python",
   "nbconvert_exporter": "python",
   "pygments_lexer": "ipython3",
   "version": "3.12.1"
  }
 },
 "nbformat": 4,
 "nbformat_minor": 2
}
